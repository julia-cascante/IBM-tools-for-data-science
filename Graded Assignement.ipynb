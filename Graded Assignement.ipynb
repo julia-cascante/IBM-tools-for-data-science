{
  "metadata": {
    "language_info": {
      "codemirror_mode": {
        "name": "python",
        "version": 3
      },
      "file_extension": ".py",
      "mimetype": "text/x-python",
      "name": "python",
      "nbconvert_exporter": "python",
      "pygments_lexer": "ipython3",
      "version": "3.8"
    },
    "kernelspec": {
      "name": "python",
      "display_name": "Pyolite",
      "language": "python"
    }
  },
  "nbformat_minor": 4,
  "nbformat": 4,
  "cells": [
    {
      "cell_type": "markdown",
      "source": "# My Jupiter Notebook",
      "metadata": {}
    },
    {
      "cell_type": "markdown",
      "source": "**Julia Cascante**  \nData scientist",
      "metadata": {}
    },
    {
      "cell_type": "markdown",
      "source": "*Now we can collect vasts amounts of data regarding climate change and we have this amazing oportunity to use that data to find the answers   \nto make our planet a better place. This is why I am learning data science, I want to contribute and use my career and knowledge to make a difference.*",
      "metadata": {}
    },
    {
      "cell_type": "markdown",
      "source": "### This code is intended to test Jupiter math skills!",
      "metadata": {}
    },
    {
      "cell_type": "code",
      "source": "1 + 1 / 8",
      "metadata": {
        "trusted": true
      },
      "execution_count": 2,
      "outputs": [
        {
          "execution_count": 2,
          "output_type": "execute_result",
          "data": {
            "text/plain": "1.125"
          },
          "metadata": {}
        }
      ]
    },
    {
      "cell_type": "markdown",
      "source": "~Cannot wait to start my first project~  \n<u>I have already started my first project</u>  \n## My learning plan\n* What I already know\n    1. Phyton\n    1. SQL\n    1. R\n* Growing opportunities\n    1. Manipulate big data sets\n    1. First project\n    1. More programming practice\n",
      "metadata": {}
    },
    {
      "cell_type": "code",
      "source": "",
      "metadata": {},
      "execution_count": null,
      "outputs": []
    }
  ]
}